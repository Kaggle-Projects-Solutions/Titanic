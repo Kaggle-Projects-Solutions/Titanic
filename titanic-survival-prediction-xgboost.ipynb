{
 "cells": [
  {
   "cell_type": "code",
   "execution_count": 1,
   "metadata": {
    "_cell_guid": "b1076dfc-b9ad-4769-8c92-a6c4dae69d19",
    "_uuid": "8f2839f25d086af736a60e9eeb907d3b93b6e0e5",
    "execution": {
     "iopub.execute_input": "2021-08-30T19:04:19.521091Z",
     "iopub.status.busy": "2021-08-30T19:04:19.520795Z",
     "iopub.status.idle": "2021-08-30T19:04:20.278007Z",
     "shell.execute_reply": "2021-08-30T19:04:20.277171Z",
     "shell.execute_reply.started": "2021-08-30T19:04:19.521045Z"
    }
   },
   "outputs": [],
   "source": [
    "# Importing pandas and Series + DataFrame:\n",
    "import pandas as pd\n",
    "from pandas import Series, DataFrame\n",
    "\n",
    "# Importing numpy, matplotlib and seaborn:\n",
    "import numpy as np\n",
    "import matplotlib.pyplot as plt\n",
    "import seaborn as sns\n",
    "%matplotlib inline"
   ]
  },
  {
   "cell_type": "code",
   "execution_count": 2,
   "metadata": {
    "_cell_guid": "79c7e3d0-c299-4dcb-8224-4455121ee9b0",
    "_uuid": "d629ff2d2480ee46fbb7e2d37f6b5fab8052498a",
    "execution": {
     "iopub.execute_input": "2021-08-30T19:04:20.279859Z",
     "iopub.status.busy": "2021-08-30T19:04:20.279348Z",
     "iopub.status.idle": "2021-08-30T19:04:20.324326Z",
     "shell.execute_reply": "2021-08-30T19:04:20.323645Z",
     "shell.execute_reply.started": "2021-08-30T19:04:20.279797Z"
    }
   },
   "outputs": [],
   "source": [
    "titanic_train_df = pd.read_csv('../input/train.csv')\n",
    "titanic_test_df = pd.read_csv('../input/test.csv')"
   ]
  },
  {
   "cell_type": "code",
   "execution_count": 3,
   "metadata": {
    "execution": {
     "iopub.execute_input": "2021-08-30T19:04:20.32595Z",
     "iopub.status.busy": "2021-08-30T19:04:20.325447Z",
     "iopub.status.idle": "2021-08-30T19:04:20.372887Z",
     "shell.execute_reply": "2021-08-30T19:04:20.371932Z",
     "shell.execute_reply.started": "2021-08-30T19:04:20.325893Z"
    }
   },
   "outputs": [
    {
     "data": {
      "text/html": [
       "<div>\n",
       "<style scoped>\n",
       "    .dataframe tbody tr th:only-of-type {\n",
       "        vertical-align: middle;\n",
       "    }\n",
       "\n",
       "    .dataframe tbody tr th {\n",
       "        vertical-align: top;\n",
       "    }\n",
       "\n",
       "    .dataframe thead th {\n",
       "        text-align: right;\n",
       "    }\n",
       "</style>\n",
       "<table border=\"1\" class=\"dataframe\">\n",
       "  <thead>\n",
       "    <tr style=\"text-align: right;\">\n",
       "      <th></th>\n",
       "      <th>PassengerId</th>\n",
       "      <th>Survived</th>\n",
       "      <th>Pclass</th>\n",
       "      <th>Name</th>\n",
       "      <th>Sex</th>\n",
       "      <th>Age</th>\n",
       "      <th>SibSp</th>\n",
       "      <th>Parch</th>\n",
       "      <th>Ticket</th>\n",
       "      <th>Fare</th>\n",
       "      <th>Cabin</th>\n",
       "      <th>Embarked</th>\n",
       "    </tr>\n",
       "  </thead>\n",
       "  <tbody>\n",
       "    <tr>\n",
       "      <th>0</th>\n",
       "      <td>1</td>\n",
       "      <td>0</td>\n",
       "      <td>3</td>\n",
       "      <td>Braund, Mr. Owen Harris</td>\n",
       "      <td>male</td>\n",
       "      <td>22.0</td>\n",
       "      <td>1</td>\n",
       "      <td>0</td>\n",
       "      <td>A/5 21171</td>\n",
       "      <td>7.2500</td>\n",
       "      <td>NaN</td>\n",
       "      <td>S</td>\n",
       "    </tr>\n",
       "    <tr>\n",
       "      <th>1</th>\n",
       "      <td>2</td>\n",
       "      <td>1</td>\n",
       "      <td>1</td>\n",
       "      <td>Cumings, Mrs. John Bradley (Florence Briggs Th...</td>\n",
       "      <td>female</td>\n",
       "      <td>38.0</td>\n",
       "      <td>1</td>\n",
       "      <td>0</td>\n",
       "      <td>PC 17599</td>\n",
       "      <td>71.2833</td>\n",
       "      <td>C85</td>\n",
       "      <td>C</td>\n",
       "    </tr>\n",
       "    <tr>\n",
       "      <th>2</th>\n",
       "      <td>3</td>\n",
       "      <td>1</td>\n",
       "      <td>3</td>\n",
       "      <td>Heikkinen, Miss. Laina</td>\n",
       "      <td>female</td>\n",
       "      <td>26.0</td>\n",
       "      <td>0</td>\n",
       "      <td>0</td>\n",
       "      <td>STON/O2. 3101282</td>\n",
       "      <td>7.9250</td>\n",
       "      <td>NaN</td>\n",
       "      <td>S</td>\n",
       "    </tr>\n",
       "    <tr>\n",
       "      <th>3</th>\n",
       "      <td>4</td>\n",
       "      <td>1</td>\n",
       "      <td>1</td>\n",
       "      <td>Futrelle, Mrs. Jacques Heath (Lily May Peel)</td>\n",
       "      <td>female</td>\n",
       "      <td>35.0</td>\n",
       "      <td>1</td>\n",
       "      <td>0</td>\n",
       "      <td>113803</td>\n",
       "      <td>53.1000</td>\n",
       "      <td>C123</td>\n",
       "      <td>S</td>\n",
       "    </tr>\n",
       "    <tr>\n",
       "      <th>4</th>\n",
       "      <td>5</td>\n",
       "      <td>0</td>\n",
       "      <td>3</td>\n",
       "      <td>Allen, Mr. William Henry</td>\n",
       "      <td>male</td>\n",
       "      <td>35.0</td>\n",
       "      <td>0</td>\n",
       "      <td>0</td>\n",
       "      <td>373450</td>\n",
       "      <td>8.0500</td>\n",
       "      <td>NaN</td>\n",
       "      <td>S</td>\n",
       "    </tr>\n",
       "  </tbody>\n",
       "</table>\n",
       "</div>"
      ],
      "text/plain": [
       "   PassengerId  Survived  Pclass    ...        Fare Cabin  Embarked\n",
       "0            1         0       3    ...      7.2500   NaN         S\n",
       "1            2         1       1    ...     71.2833   C85         C\n",
       "2            3         1       3    ...      7.9250   NaN         S\n",
       "3            4         1       1    ...     53.1000  C123         S\n",
       "4            5         0       3    ...      8.0500   NaN         S\n",
       "\n",
       "[5 rows x 12 columns]"
      ]
     },
     "execution_count": 3,
     "metadata": {},
     "output_type": "execute_result"
    }
   ],
   "source": [
    "# A short preview of our data from Titanic file:\n",
    "titanic_train_df.head()"
   ]
  },
  {
   "cell_type": "code",
   "execution_count": 4,
   "metadata": {
    "execution": {
     "iopub.execute_input": "2021-08-30T19:04:20.374743Z",
     "iopub.status.busy": "2021-08-30T19:04:20.374205Z",
     "iopub.status.idle": "2021-08-30T19:04:20.387544Z",
     "shell.execute_reply": "2021-08-30T19:04:20.386445Z",
     "shell.execute_reply.started": "2021-08-30T19:04:20.374673Z"
    }
   },
   "outputs": [
    {
     "name": "stdout",
     "output_type": "stream",
     "text": [
      "<class 'pandas.core.frame.DataFrame'>\n",
      "RangeIndex: 891 entries, 0 to 890\n",
      "Data columns (total 12 columns):\n",
      "PassengerId    891 non-null int64\n",
      "Survived       891 non-null int64\n",
      "Pclass         891 non-null int64\n",
      "Name           891 non-null object\n",
      "Sex            891 non-null object\n",
      "Age            714 non-null float64\n",
      "SibSp          891 non-null int64\n",
      "Parch          891 non-null int64\n",
      "Ticket         891 non-null object\n",
      "Fare           891 non-null float64\n",
      "Cabin          204 non-null object\n",
      "Embarked       889 non-null object\n",
      "dtypes: float64(2), int64(5), object(5)\n",
      "memory usage: 83.6+ KB\n"
     ]
    }
   ],
   "source": [
    "# See overal info about the dataset\n",
    "titanic_train_df.info()"
   ]
  },
  {
   "cell_type": "code",
   "execution_count": 5,
   "metadata": {
    "execution": {
     "iopub.execute_input": "2021-08-30T19:04:20.389297Z",
     "iopub.status.busy": "2021-08-30T19:04:20.38872Z",
     "iopub.status.idle": "2021-08-30T19:04:20.882419Z",
     "shell.execute_reply": "2021-08-30T19:04:20.881477Z",
     "shell.execute_reply.started": "2021-08-30T19:04:20.38924Z"
    }
   },
   "outputs": [
    {
     "data": {
      "text/plain": [
       "<matplotlib.axes._subplots.AxesSubplot at 0x7f008fa1cd68>"
      ]
     },
     "execution_count": 5,
     "metadata": {},
     "output_type": "execute_result"
    },
    {
     "data": {
      "image/png": "[encoded data removed]",
      "text/plain": [
       "<Figure size 432x288 with 1 Axes>"
      ]
     },
     "metadata": {},
     "output_type": "display_data"
    }
   ],
   "source": [
    "# Heatmap for visualising missing data:\n",
    "sns.heatmap(titanic_train_df.isnull(), yticklabels = False, cbar = False, cmap = 'Paired')"
   ]
  },
  {
   "cell_type": "code",
   "execution_count": 6,
   "metadata": {
    "execution": {
     "iopub.execute_input": "2021-08-30T19:04:20.884588Z",
     "iopub.status.busy": "2021-08-30T19:04:20.883933Z",
     "iopub.status.idle": "2021-08-30T19:04:20.901482Z",
     "shell.execute_reply": "2021-08-30T19:04:20.900074Z",
     "shell.execute_reply.started": "2021-08-30T19:04:20.884499Z"
    }
   },
   "outputs": [
    {
     "name": "stdout",
     "output_type": "stream",
     "text": [
      "<class 'pandas.core.frame.DataFrame'>\n",
      "RangeIndex: 418 entries, 0 to 417\n",
      "Data columns (total 11 columns):\n",
      "PassengerId    418 non-null int64\n",
      "Pclass         418 non-null int64\n",
      "Name           418 non-null object\n",
      "Sex            418 non-null object\n",
      "Age            332 non-null float64\n",
      "SibSp          418 non-null int64\n",
      "Parch          418 non-null int64\n",
      "Ticket         418 non-null object\n",
      "Fare           417 non-null float64\n",
      "Cabin          91 non-null object\n",
      "Embarked       418 non-null object\n",
      "dtypes: float64(2), int64(4), object(5)\n",
      "memory usage: 36.0+ KB\n"
     ]
    }
   ],
   "source": [
    "titanic_test_df.info()"
   ]
  },
  {
   "cell_type": "code",
   "execution_count": 7,
   "metadata": {
    "execution": {
     "iopub.execute_input": "2021-08-30T19:04:20.903807Z",
     "iopub.status.busy": "2021-08-30T19:04:20.903164Z",
     "iopub.status.idle": "2021-08-30T19:04:20.908933Z",
     "shell.execute_reply": "2021-08-30T19:04:20.907658Z",
     "shell.execute_reply.started": "2021-08-30T19:04:20.90374Z"
    }
   },
   "outputs": [],
   "source": [
    "# Assign output PassengerId-s to the following variable:\n",
    "passengerId = titanic_test_df['PassengerId']\n"
   ]
  },
  {
   "cell_type": "code",
   "execution_count": 8,
   "metadata": {
    "execution": {
     "iopub.execute_input": "2021-08-30T19:04:20.91154Z",
     "iopub.status.busy": "2021-08-30T19:04:20.910793Z",
     "iopub.status.idle": "2021-08-30T19:04:20.940844Z",
     "shell.execute_reply": "2021-08-30T19:04:20.940122Z",
     "shell.execute_reply.started": "2021-08-30T19:04:20.911474Z"
    }
   },
   "outputs": [
    {
     "name": "stderr",
     "output_type": "stream",
     "text": [
      "/opt/conda/lib/python3.6/site-packages/pandas/core/frame.py:6211: FutureWarning: Sorting because non-concatenation axis is not aligned. A future version\n",
      "of pandas will change to not sort by default.\n",
      "\n",
      "To accept the future behavior, pass 'sort=False'.\n",
      "\n",
      "To retain the current behavior and silence the warning, pass 'sort=True'.\n",
      "\n",
      "  sort=sort)\n"
     ]
    }
   ],
   "source": [
    "# Merge train and test data into titanic and drop passengerId column:\n",
    "titanic = titanic_train_df.append(titanic_test_df, ignore_index = True)\n",
    "titanic = titanic.drop('PassengerId', axis = 1)"
   ]
  },
  {
   "cell_type": "code",
   "execution_count": 9,
   "metadata": {
    "execution": {
     "iopub.execute_input": "2021-08-30T19:04:20.942404Z",
     "iopub.status.busy": "2021-08-30T19:04:20.941955Z",
     "iopub.status.idle": "2021-08-30T19:04:20.953182Z",
     "shell.execute_reply": "2021-08-30T19:04:20.952462Z",
     "shell.execute_reply.started": "2021-08-30T19:04:20.942359Z"
    }
   },
   "outputs": [
    {
     "name": "stdout",
     "output_type": "stream",
     "text": [
      "<class 'pandas.core.frame.DataFrame'>\n",
      "RangeIndex: 1309 entries, 0 to 1308\n",
      "Data columns (total 11 columns):\n",
      "Age         1046 non-null float64\n",
      "Cabin       295 non-null object\n",
      "Embarked    1307 non-null object\n",
      "Fare        1308 non-null float64\n",
      "Name        1309 non-null object\n",
      "Parch       1309 non-null int64\n",
      "Pclass      1309 non-null int64\n",
      "Sex         1309 non-null object\n",
      "SibSp       1309 non-null int64\n",
      "Survived    891 non-null float64\n",
      "Ticket      1309 non-null object\n",
      "dtypes: float64(3), int64(3), object(5)\n",
      "memory usage: 112.6+ KB\n"
     ]
    }
   ],
   "source": [
    "titanic.info()"
   ]
  },
  {
   "cell_type": "code",
   "execution_count": 10,
   "metadata": {
    "execution": {
     "iopub.execute_input": "2021-08-30T19:04:20.954477Z",
     "iopub.status.busy": "2021-08-30T19:04:20.954203Z",
     "iopub.status.idle": "2021-08-30T19:04:20.959046Z",
     "shell.execute_reply": "2021-08-30T19:04:20.958161Z",
     "shell.execute_reply.started": "2021-08-30T19:04:20.954421Z"
    }
   },
   "outputs": [],
   "source": [
    "# Creating indexes to separate data later:\n",
    "titanic_train_df_idx = len(titanic_train_df)\n",
    "titanic_test_df_idx = len(titanic) - len(titanic_test_df)"
   ]
  },
  {
   "cell_type": "markdown",
   "metadata": {},
   "source": [
    "Age"
   ]
  },
  {
   "cell_type": "code",
   "execution_count": 11,
   "metadata": {
    "execution": {
     "iopub.execute_input": "2021-08-30T19:04:20.961181Z",
     "iopub.status.busy": "2021-08-30T19:04:20.960907Z",
     "iopub.status.idle": "2021-08-30T19:04:20.974382Z",
     "shell.execute_reply": "2021-08-30T19:04:20.973672Z",
     "shell.execute_reply.started": "2021-08-30T19:04:20.961113Z"
    }
   },
   "outputs": [],
   "source": [
    "# We create new feature 'Title' there are 17 different titles used in names, so we map them to 6 main categories:\n",
    "titanic['Title'] = titanic.Name.apply(lambda name: name.split(',')[1].split('.')[0].strip())\n"
   ]
  },
  {
   "cell_type": "code",
   "execution_count": 12,
   "metadata": {
    "execution": {
     "iopub.execute_input": "2021-08-30T19:04:20.975915Z",
     "iopub.status.busy": "2021-08-30T19:04:20.975492Z",
     "iopub.status.idle": "2021-08-30T19:04:20.987527Z",
     "shell.execute_reply": "2021-08-30T19:04:20.986707Z",
     "shell.execute_reply.started": "2021-08-30T19:04:20.97586Z"
    }
   },
   "outputs": [],
   "source": [
    "# Normalise the titles:\n",
    "normalised_titles = {'Capt':'Officer','Col':'Officer','Major':'Officer', 'Jonkheer':'Royalty','Don':'Royalty',\n",
    "                     'Sir':'Royalty', 'Dr':'Officer', 'Rev':'Officer', 'the Countess':'Royalty', 'Dona':'Royalty',\n",
    "                     'Mme':'Mrs', 'Mlle':'Miss', 'Ms':'Mrs', 'Mr':'Mr', 'Mrs':'Mrs', 'Miss':'Miss', 'Master':'Master',\n",
    "                     'Lady':'Royalty'}"
   ]
  },
  {
   "cell_type": "code",
   "execution_count": 13,
   "metadata": {
    "execution": {
     "iopub.execute_input": "2021-08-30T19:04:20.989305Z",
     "iopub.status.busy": "2021-08-30T19:04:20.988847Z",
     "iopub.status.idle": "2021-08-30T19:04:21.001536Z",
     "shell.execute_reply": "2021-08-30T19:04:21.000684Z",
     "shell.execute_reply.started": "2021-08-30T19:04:20.989247Z"
    }
   },
   "outputs": [],
   "source": [
    "# Map normalised titles to the current titles:\n",
    "titanic['Title'] = titanic['Title'].map(normalised_titles)"
   ]
  },
  {
   "cell_type": "code",
   "execution_count": 14,
   "metadata": {
    "execution": {
     "iopub.execute_input": "2021-08-30T19:04:21.003142Z",
     "iopub.status.busy": "2021-08-30T19:04:21.002817Z",
     "iopub.status.idle": "2021-08-30T19:04:21.015569Z",
     "shell.execute_reply": "2021-08-30T19:04:21.014471Z",
     "shell.execute_reply.started": "2021-08-30T19:04:21.00309Z"
    }
   },
   "outputs": [],
   "source": [
    "# Group by Sex, Pclass and title:\n",
    "group = titanic.groupby(['Sex', 'Pclass', 'Title'])"
   ]
  },
  {
   "cell_type": "code",
   "execution_count": 15,
   "metadata": {
    "execution": {
     "iopub.execute_input": "2021-08-30T19:04:21.017756Z",
     "iopub.status.busy": "2021-08-30T19:04:21.017187Z",
     "iopub.status.idle": "2021-08-30T19:04:21.038232Z",
     "shell.execute_reply": "2021-08-30T19:04:21.037271Z",
     "shell.execute_reply.started": "2021-08-30T19:04:21.017687Z"
    }
   },
   "outputs": [
    {
     "data": {
      "text/plain": [
       "Sex     Pclass  Title  \n",
       "female  1       Miss       30.0\n",
       "                Mrs        45.0\n",
       "                Officer    49.0\n",
       "                Royalty    39.0\n",
       "        2       Miss       20.0\n",
       "                Mrs        30.0\n",
       "        3       Miss       18.0\n",
       "                Mrs        31.0\n",
       "male    1       Master      6.0\n",
       "                Mr         41.5\n",
       "                Officer    52.0\n",
       "                Royalty    40.0\n",
       "        2       Master      2.0\n",
       "                Mr         30.0\n",
       "                Officer    41.5\n",
       "        3       Master      6.0\n",
       "                Mr         26.0\n",
       "Name: Age, dtype: float64"
      ]
     },
     "execution_count": 15,
     "metadata": {},
     "output_type": "execute_result"
    }
   ],
   "source": [
    "# To display mediang age by the groupped features:\n",
    "group['Age'].median()"
   ]
  },
  {
   "cell_type": "code",
   "execution_count": 16,
   "metadata": {
    "execution": {
     "iopub.execute_input": "2021-08-30T19:04:21.040135Z",
     "iopub.status.busy": "2021-08-30T19:04:21.039624Z",
     "iopub.status.idle": "2021-08-30T19:04:21.076633Z",
     "shell.execute_reply": "2021-08-30T19:04:21.07531Z",
     "shell.execute_reply.started": "2021-08-30T19:04:21.040072Z"
    }
   },
   "outputs": [],
   "source": [
    "# Fill in the NaN age values by group median values:\n",
    "titanic['Age'] = group['Age'].apply(lambda x: x.fillna(x.median()))"
   ]
  },
  {
   "cell_type": "code",
   "execution_count": 17,
   "metadata": {
    "execution": {
     "iopub.execute_input": "2021-08-30T19:04:21.080249Z",
     "iopub.status.busy": "2021-08-30T19:04:21.078379Z",
     "iopub.status.idle": "2021-08-30T19:04:21.104655Z",
     "shell.execute_reply": "2021-08-30T19:04:21.103444Z",
     "shell.execute_reply.started": "2021-08-30T19:04:21.080179Z"
    }
   },
   "outputs": [
    {
     "name": "stdout",
     "output_type": "stream",
     "text": [
      "<class 'pandas.core.frame.DataFrame'>\n",
      "RangeIndex: 1309 entries, 0 to 1308\n",
      "Data columns (total 12 columns):\n",
      "Age         1309 non-null float64\n",
      "Cabin       295 non-null object\n",
      "Embarked    1307 non-null object\n",
      "Fare        1308 non-null float64\n",
      "Name        1309 non-null object\n",
      "Parch       1309 non-null int64\n",
      "Pclass      1309 non-null int64\n",
      "Sex         1309 non-null object\n",
      "SibSp       1309 non-null int64\n",
      "Survived    891 non-null float64\n",
      "Ticket      1309 non-null object\n",
      "Title       1309 non-null object\n",
      "dtypes: float64(3), int64(3), object(6)\n",
      "memory usage: 122.8+ KB\n"
     ]
    }
   ],
   "source": [
    "titanic.info()"
   ]
  },
  {
   "cell_type": "markdown",
   "metadata": {},
   "source": [
    "Ticket"
   ]
  },
  {
   "cell_type": "code",
   "execution_count": 18,
   "metadata": {
    "execution": {
     "iopub.execute_input": "2021-08-30T19:04:21.107926Z",
     "iopub.status.busy": "2021-08-30T19:04:21.107141Z",
     "iopub.status.idle": "2021-08-30T19:04:21.117896Z",
     "shell.execute_reply": "2021-08-30T19:04:21.116577Z",
     "shell.execute_reply.started": "2021-08-30T19:04:21.10745Z"
    }
   },
   "outputs": [],
   "source": [
    "#create function that takes ticket feature and returns list of ticket_type\n",
    "import string\n",
    "\n",
    "def ticket_sep(data_ticket):\n",
    "    ticket_type = []\n",
    "\n",
    "    for i in range(len(data_ticket)):\n",
    "\n",
    "            ticket =data_ticket.iloc[i]\n",
    "\n",
    "            for c in string.punctuation:\n",
    "                ticket = ticket.replace(c,\"\")\n",
    "                splited_ticket = ticket.split(\" \")   \n",
    "            if len(splited_ticket) == 1:\n",
    "                ticket_type.append('NO')\n",
    "            else: \n",
    "                ticket_type.append(splited_ticket[0])\n",
    "    return ticket_type "
   ]
  },
  {
   "cell_type": "code",
   "execution_count": 19,
   "metadata": {
    "execution": {
     "iopub.execute_input": "2021-08-30T19:04:21.122307Z",
     "iopub.status.busy": "2021-08-30T19:04:21.12204Z",
     "iopub.status.idle": "2021-08-30T19:04:21.161501Z",
     "shell.execute_reply": "2021-08-30T19:04:21.160439Z",
     "shell.execute_reply.started": "2021-08-30T19:04:21.122257Z"
    }
   },
   "outputs": [],
   "source": [
    "# for train data create new column with ticket_type:\n",
    "titanic['ticket_type'] = ticket_sep(titanic.Ticket)\n"
   ]
  },
  {
   "cell_type": "code",
   "execution_count": 20,
   "metadata": {
    "execution": {
     "iopub.execute_input": "2021-08-30T19:04:21.162995Z",
     "iopub.status.busy": "2021-08-30T19:04:21.162741Z",
     "iopub.status.idle": "2021-08-30T19:04:21.196149Z",
     "shell.execute_reply": "2021-08-30T19:04:21.195144Z",
     "shell.execute_reply.started": "2021-08-30T19:04:21.162947Z"
    }
   },
   "outputs": [
    {
     "data": {
      "text/html": [
       "<div>\n",
       "<style scoped>\n",
       "    .dataframe tbody tr th:only-of-type {\n",
       "        vertical-align: middle;\n",
       "    }\n",
       "\n",
       "    .dataframe tbody tr th {\n",
       "        vertical-align: top;\n",
       "    }\n",
       "\n",
       "    .dataframe thead th {\n",
       "        text-align: right;\n",
       "    }\n",
       "</style>\n",
       "<table border=\"1\" class=\"dataframe\">\n",
       "  <thead>\n",
       "    <tr style=\"text-align: right;\">\n",
       "      <th></th>\n",
       "      <th>Age</th>\n",
       "      <th>Cabin</th>\n",
       "      <th>Embarked</th>\n",
       "      <th>Fare</th>\n",
       "      <th>Name</th>\n",
       "      <th>Parch</th>\n",
       "      <th>Pclass</th>\n",
       "      <th>Sex</th>\n",
       "      <th>SibSp</th>\n",
       "      <th>Survived</th>\n",
       "      <th>Ticket</th>\n",
       "      <th>Title</th>\n",
       "      <th>ticket_type</th>\n",
       "    </tr>\n",
       "  </thead>\n",
       "  <tbody>\n",
       "    <tr>\n",
       "      <th>0</th>\n",
       "      <td>22.0</td>\n",
       "      <td>NaN</td>\n",
       "      <td>S</td>\n",
       "      <td>7.2500</td>\n",
       "      <td>Braund, Mr. Owen Harris</td>\n",
       "      <td>0</td>\n",
       "      <td>3</td>\n",
       "      <td>male</td>\n",
       "      <td>1</td>\n",
       "      <td>0.0</td>\n",
       "      <td>A/5 21171</td>\n",
       "      <td>Mr</td>\n",
       "      <td>A5</td>\n",
       "    </tr>\n",
       "    <tr>\n",
       "      <th>1</th>\n",
       "      <td>38.0</td>\n",
       "      <td>C85</td>\n",
       "      <td>C</td>\n",
       "      <td>71.2833</td>\n",
       "      <td>Cumings, Mrs. John Bradley (Florence Briggs Th...</td>\n",
       "      <td>0</td>\n",
       "      <td>1</td>\n",
       "      <td>female</td>\n",
       "      <td>1</td>\n",
       "      <td>1.0</td>\n",
       "      <td>PC 17599</td>\n",
       "      <td>Mrs</td>\n",
       "      <td>PC</td>\n",
       "    </tr>\n",
       "    <tr>\n",
       "      <th>2</th>\n",
       "      <td>26.0</td>\n",
       "      <td>NaN</td>\n",
       "      <td>S</td>\n",
       "      <td>7.9250</td>\n",
       "      <td>Heikkinen, Miss. Laina</td>\n",
       "      <td>0</td>\n",
       "      <td>3</td>\n",
       "      <td>female</td>\n",
       "      <td>0</td>\n",
       "      <td>1.0</td>\n",
       "      <td>STON/O2. 3101282</td>\n",
       "      <td>Miss</td>\n",
       "      <td>STONO2</td>\n",
       "    </tr>\n",
       "    <tr>\n",
       "      <th>3</th>\n",
       "      <td>35.0</td>\n",
       "      <td>C123</td>\n",
       "      <td>S</td>\n",
       "      <td>53.1000</td>\n",
       "      <td>Futrelle, Mrs. Jacques Heath (Lily May Peel)</td>\n",
       "      <td>0</td>\n",
       "      <td>1</td>\n",
       "      <td>female</td>\n",
       "      <td>1</td>\n",
       "      <td>1.0</td>\n",
       "      <td>113803</td>\n",
       "      <td>Mrs</td>\n",
       "      <td>NO</td>\n",
       "    </tr>\n",
       "    <tr>\n",
       "      <th>4</th>\n",
       "      <td>35.0</td>\n",
       "      <td>NaN</td>\n",
       "      <td>S</td>\n",
       "      <td>8.0500</td>\n",
       "      <td>Allen, Mr. William Henry</td>\n",
       "      <td>0</td>\n",
       "      <td>3</td>\n",
       "      <td>male</td>\n",
       "      <td>0</td>\n",
       "      <td>0.0</td>\n",
       "      <td>373450</td>\n",
       "      <td>Mr</td>\n",
       "      <td>NO</td>\n",
       "    </tr>\n",
       "  </tbody>\n",
       "</table>\n",
       "</div>"
      ],
      "text/plain": [
       "    Age Cabin Embarked     ...                 Ticket Title  ticket_type\n",
       "0  22.0   NaN        S     ...              A/5 21171    Mr           A5\n",
       "1  38.0   C85        C     ...               PC 17599   Mrs           PC\n",
       "2  26.0   NaN        S     ...       STON/O2. 3101282  Miss       STONO2\n",
       "3  35.0  C123        S     ...                 113803   Mrs           NO\n",
       "4  35.0   NaN        S     ...                 373450    Mr           NO\n",
       "\n",
       "[5 rows x 13 columns]"
      ]
     },
     "execution_count": 20,
     "metadata": {},
     "output_type": "execute_result"
    }
   ],
   "source": [
    "titanic.head()"
   ]
  },
  {
   "cell_type": "code",
   "execution_count": 21,
   "metadata": {
    "execution": {
     "iopub.execute_input": "2021-08-30T19:04:21.197845Z",
     "iopub.status.busy": "2021-08-30T19:04:21.197306Z",
     "iopub.status.idle": "2021-08-30T19:04:22.078775Z",
     "shell.execute_reply": "2021-08-30T19:04:22.077851Z",
     "shell.execute_reply.started": "2021-08-30T19:04:21.197576Z"
    }
   },
   "outputs": [
    {
     "name": "stdout",
     "output_type": "stream",
     "text": [
      "NO         961\n",
      "PC          92\n",
      "CA          68\n",
      "A5          28\n",
      "SOTONOQ     24\n",
      "WC          15\n",
      "STONO       14\n",
      "SCPARIS     14\n",
      "A4          10\n",
      "FCC          9\n",
      "C            8\n",
      "SOC          8\n",
      "STONO2       7\n",
      "SOPP         7\n",
      "SCAH         5\n",
      "SCParis      5\n",
      "WEP          4\n",
      "PP           4\n",
      "FC           3\n",
      "SOTONO2      3\n",
      "SC           2\n",
      "PPP          2\n",
      "SWPP         2\n",
      "SCA4         2\n",
      "AQ3          1\n",
      "AQ4          1\n",
      "AS           1\n",
      "Fa           1\n",
      "SOP          1\n",
      "SCOW         1\n",
      "A            1\n",
      "STONOQ       1\n",
      "CASOTON      1\n",
      "SP           1\n",
      "LP           1\n",
      "SCA3         1\n",
      "Name: ticket_type, dtype: int64\n"
     ]
    },
    {
     "name": "stderr",
     "output_type": "stream",
     "text": [
      "/opt/conda/lib/python3.6/site-packages/seaborn/categorical.py:3666: UserWarning: The `factorplot` function has been renamed to `catplot`. The original name will be removed in a future release. Please update your code. Note that the default `kind` in `factorplot` (`'point'`) has changed `'strip'` in `catplot`.\n",
      "  warnings.warn(msg)\n",
      "/opt/conda/lib/python3.6/site-packages/seaborn/categorical.py:3672: UserWarning: The `size` paramter has been renamed to `height`; please update your code.\n",
      "  warnings.warn(msg, UserWarning)\n",
      "/opt/conda/lib/python3.6/site-packages/scipy/stats/stats.py:1713: FutureWarning: Using a non-tuple sequence for multidimensional indexing is deprecated; use `arr[tuple(seq)]` instead of `arr[seq]`. In the future this will be interpreted as an array index, `arr[np.array(seq)]`, which will result either in an error or a different result.\n",
      "  return np.add.reduce(sorted[indexer] * weights, axis=axis) / sumval\n"
     ]
    },
    {
     "data": {
      "text/plain": [
       "<seaborn.axisgrid.FacetGrid at 0x7f0085e235f8>"
      ]
     },
     "execution_count": 21,
     "metadata": {},
     "output_type": "execute_result"
    },
    {
     "data": {
      "image/png": "[encoded data removed]",
      "text/plain": [
       "<Figure size 864x288 with 1 Axes>"
      ]
     },
     "metadata": {},
     "output_type": "display_data"
    }
   ],
   "source": [
    "# check how many samples are there for each ticket type and visualize:\n",
    "print(titanic[\"ticket_type\"].value_counts())\n",
    "sns.factorplot('ticket_type','Survived', data=titanic,size=4,aspect=3)"
   ]
  },
  {
   "cell_type": "code",
   "execution_count": 22,
   "metadata": {
    "execution": {
     "iopub.execute_input": "2021-08-30T19:04:22.080597Z",
     "iopub.status.busy": "2021-08-30T19:04:22.08009Z",
     "iopub.status.idle": "2021-08-30T19:04:22.20444Z",
     "shell.execute_reply": "2021-08-30T19:04:22.203484Z",
     "shell.execute_reply.started": "2021-08-30T19:04:22.080521Z"
    }
   },
   "outputs": [
    {
     "name": "stdout",
     "output_type": "stream",
     "text": [
      "['A5' 'PC' 'OTHER_T' 'NO' 'CA' 'WC' 'SOTONOQ']\n"
     ]
    }
   ],
   "source": [
    "# for those types that have less than 15 samples in training set, assign type to 'OTHER':\n",
    "\n",
    "for t in titanic['ticket_type'].unique():\n",
    "    if len(titanic[titanic['ticket_type'] == t]) < 15:\n",
    "        titanic.loc[titanic.ticket_type == t, 'ticket_type'] = 'OTHER_T'\n",
    "       \n",
    "    \n",
    "for t in titanic['ticket_type'].unique():\n",
    "    if t not in titanic['ticket_type'].unique():\n",
    "        titanic.loc[titanic.ticket_type ==t, 'ticket_type'] = 'OTHER_T'\n",
    "        \n",
    "print(titanic['ticket_type'].unique())"
   ]
  },
  {
   "cell_type": "code",
   "execution_count": 23,
   "metadata": {
    "execution": {
     "iopub.execute_input": "2021-08-30T19:04:22.206161Z",
     "iopub.status.busy": "2021-08-30T19:04:22.205666Z",
     "iopub.status.idle": "2021-08-30T19:04:22.21304Z",
     "shell.execute_reply": "2021-08-30T19:04:22.212376Z",
     "shell.execute_reply.started": "2021-08-30T19:04:22.206103Z"
    }
   },
   "outputs": [],
   "source": [
    "# where ticket_type is 'SOTONOQ' convert it to 'A5'\n",
    "titanic[\"ticket_type\"] = np.where(titanic[\"ticket_type\"]=='SOTONOQ', 'A5', titanic[\"ticket_type\"])\n",
    "titanic[\"ticket_type\"] = np.where(titanic[\"ticket_type\"]=='SOTONOQ', 'A5', titanic[\"ticket_type\"])"
   ]
  },
  {
   "cell_type": "code",
   "execution_count": 24,
   "metadata": {
    "execution": {
     "iopub.execute_input": "2021-08-30T19:04:22.214249Z",
     "iopub.status.busy": "2021-08-30T19:04:22.213928Z",
     "iopub.status.idle": "2021-08-30T19:04:22.505063Z",
     "shell.execute_reply": "2021-08-30T19:04:22.503945Z",
     "shell.execute_reply.started": "2021-08-30T19:04:22.214213Z"
    }
   },
   "outputs": [
    {
     "name": "stdout",
     "output_type": "stream",
     "text": [
      "NO         0.734148\n",
      "OTHER_T    0.092437\n",
      "PC         0.070283\n",
      "CA         0.051948\n",
      "A5         0.039725\n",
      "WC         0.011459\n",
      "Name: ticket_type, dtype: float64\n"
     ]
    },
    {
     "name": "stderr",
     "output_type": "stream",
     "text": [
      "/opt/conda/lib/python3.6/site-packages/scipy/stats/stats.py:1713: FutureWarning: Using a non-tuple sequence for multidimensional indexing is deprecated; use `arr[tuple(seq)]` instead of `arr[seq]`. In the future this will be interpreted as an array index, `arr[np.array(seq)]`, which will result either in an error or a different result.\n",
      "  return np.add.reduce(sorted[indexer] * weights, axis=axis) / sumval\n"
     ]
    },
    {
     "data": {
      "text/plain": [
       "<matplotlib.axes._subplots.AxesSubplot at 0x7f0085ecbcc0>"
      ]
     },
     "execution_count": 24,
     "metadata": {},
     "output_type": "execute_result"
    },
    {
     "data": {
      "image/png": "[encoded data removed]",
      "text/plain": [
       "<Figure size 432x288 with 1 Axes>"
      ]
     },
     "metadata": {},
     "output_type": "display_data"
    }
   ],
   "source": [
    "# visualize ticket_type vs survival rate\n",
    "print(titanic[\"ticket_type\"].value_counts()/len(titanic))\n",
    "sns.barplot(x = 'ticket_type', y = 'Survived', data = titanic)"
   ]
  },
  {
   "cell_type": "code",
   "execution_count": 25,
   "metadata": {
    "execution": {
     "iopub.execute_input": "2021-08-30T19:04:22.50897Z",
     "iopub.status.busy": "2021-08-30T19:04:22.508593Z",
     "iopub.status.idle": "2021-08-30T19:04:22.522012Z",
     "shell.execute_reply": "2021-08-30T19:04:22.521015Z",
     "shell.execute_reply.started": "2021-08-30T19:04:22.508808Z"
    }
   },
   "outputs": [
    {
     "name": "stdout",
     "output_type": "stream",
     "text": [
      "<class 'pandas.core.frame.DataFrame'>\n",
      "RangeIndex: 1309 entries, 0 to 1308\n",
      "Data columns (total 13 columns):\n",
      "Age            1309 non-null float64\n",
      "Cabin          295 non-null object\n",
      "Embarked       1307 non-null object\n",
      "Fare           1308 non-null float64\n",
      "Name           1309 non-null object\n",
      "Parch          1309 non-null int64\n",
      "Pclass         1309 non-null int64\n",
      "Sex            1309 non-null object\n",
      "SibSp          1309 non-null int64\n",
      "Survived       891 non-null float64\n",
      "Ticket         1309 non-null object\n",
      "Title          1309 non-null object\n",
      "ticket_type    1309 non-null object\n",
      "dtypes: float64(3), int64(3), object(7)\n",
      "memory usage: 133.0+ KB\n"
     ]
    }
   ],
   "source": [
    "titanic.info()"
   ]
  },
  {
   "cell_type": "markdown",
   "metadata": {},
   "source": [
    "Embarked"
   ]
  },
  {
   "cell_type": "code",
   "execution_count": 26,
   "metadata": {
    "execution": {
     "iopub.execute_input": "2021-08-30T19:04:22.524086Z",
     "iopub.status.busy": "2021-08-30T19:04:22.523574Z",
     "iopub.status.idle": "2021-08-30T19:04:22.531388Z",
     "shell.execute_reply": "2021-08-30T19:04:22.530688Z",
     "shell.execute_reply.started": "2021-08-30T19:04:22.524028Z"
    }
   },
   "outputs": [],
   "source": [
    "# Fill in the NaN embarked values by the most frequent embarked:\n",
    "most_embarked = titanic['Embarked'].value_counts().index[0]\n",
    "\n",
    "titanic['Embarked'] = titanic['Embarked'].fillna(most_embarked)"
   ]
  },
  {
   "cell_type": "markdown",
   "metadata": {},
   "source": [
    "Fare"
   ]
  },
  {
   "cell_type": "code",
   "execution_count": 27,
   "metadata": {
    "execution": {
     "iopub.execute_input": "2021-08-30T19:04:22.533352Z",
     "iopub.status.busy": "2021-08-30T19:04:22.53278Z",
     "iopub.status.idle": "2021-08-30T19:04:22.544493Z",
     "shell.execute_reply": "2021-08-30T19:04:22.543793Z",
     "shell.execute_reply.started": "2021-08-30T19:04:22.533295Z"
    }
   },
   "outputs": [],
   "source": [
    "# Fill NaN values for fare with median value:\n",
    "titanic['Fare'] = titanic['Fare'].fillna(titanic['Fare'].median())"
   ]
  },
  {
   "cell_type": "markdown",
   "metadata": {},
   "source": [
    "Family"
   ]
  },
  {
   "cell_type": "code",
   "execution_count": 28,
   "metadata": {
    "execution": {
     "iopub.execute_input": "2021-08-30T19:04:22.547569Z",
     "iopub.status.busy": "2021-08-30T19:04:22.547253Z",
     "iopub.status.idle": "2021-08-30T19:04:22.556875Z",
     "shell.execute_reply": "2021-08-30T19:04:22.556006Z",
     "shell.execute_reply.started": "2021-08-30T19:04:22.547501Z"
    }
   },
   "outputs": [],
   "source": [
    "# introduce new column to data called family_size:\n",
    "titanic['family_size'] = titanic.SibSp + titanic.Parch +1\n",
    "\n",
    "\n",
    "# calculate survival rate for each family in train_set:\n",
    "#rate_family = titanic.groupby('family')['Survived', 'family','family_size'].median()\n",
    "#rate_family.head()"
   ]
  },
  {
   "cell_type": "markdown",
   "metadata": {},
   "source": [
    "Cabin"
   ]
  },
  {
   "cell_type": "code",
   "execution_count": 29,
   "metadata": {
    "execution": {
     "iopub.execute_input": "2021-08-30T19:04:22.560418Z",
     "iopub.status.busy": "2021-08-30T19:04:22.560142Z",
     "iopub.status.idle": "2021-08-30T19:04:22.573023Z",
     "shell.execute_reply": "2021-08-30T19:04:22.571852Z",
     "shell.execute_reply.started": "2021-08-30T19:04:22.560356Z"
    }
   },
   "outputs": [],
   "source": [
    "# Set a new feature - Deck\n",
    "titanic['Deck'] = titanic['Cabin'].str[0]\n",
    "titanic['Deck'] = titanic['Deck'].fillna('U')"
   ]
  },
  {
   "cell_type": "code",
   "execution_count": 30,
   "metadata": {
    "execution": {
     "iopub.execute_input": "2021-08-30T19:04:22.575359Z",
     "iopub.status.busy": "2021-08-30T19:04:22.574729Z",
     "iopub.status.idle": "2021-08-30T19:04:22.798564Z",
     "shell.execute_reply": "2021-08-30T19:04:22.79782Z",
     "shell.execute_reply.started": "2021-08-30T19:04:22.575025Z"
    }
   },
   "outputs": [
    {
     "data": {
      "text/plain": [
       "<matplotlib.axes._subplots.AxesSubplot at 0x7f0085be76a0>"
      ]
     },
     "execution_count": 30,
     "metadata": {},
     "output_type": "execute_result"
    },
    {
     "data": {
      "image/png": "[encoded data removed]",
      "text/plain": [
       "<Figure size 432x288 with 1 Axes>"
      ]
     },
     "metadata": {},
     "output_type": "display_data"
    }
   ],
   "source": [
    "# Heatmap for visualising missing data:\n",
    "sns.heatmap(titanic.isnull(), yticklabels = False, cbar = False, cmap = 'Paired') "
   ]
  },
  {
   "cell_type": "markdown",
   "metadata": {},
   "source": [
    "Sex"
   ]
  },
  {
   "cell_type": "code",
   "execution_count": 31,
   "metadata": {
    "execution": {
     "iopub.execute_input": "2021-08-30T19:04:22.800584Z",
     "iopub.status.busy": "2021-08-30T19:04:22.799977Z",
     "iopub.status.idle": "2021-08-30T19:04:22.806991Z",
     "shell.execute_reply": "2021-08-30T19:04:22.806386Z",
     "shell.execute_reply.started": "2021-08-30T19:04:22.80051Z"
    }
   },
   "outputs": [],
   "source": [
    "# Convert male and female groups to integer form:\n",
    "titanic['Sex'] = titanic['Sex'].map({'male':0, 'female':1})"
   ]
  },
  {
   "cell_type": "code",
   "execution_count": 32,
   "metadata": {
    "execution": {
     "iopub.execute_input": "2021-08-30T19:04:22.808908Z",
     "iopub.status.busy": "2021-08-30T19:04:22.808333Z",
     "iopub.status.idle": "2021-08-30T19:04:22.824584Z",
     "shell.execute_reply": "2021-08-30T19:04:22.823866Z",
     "shell.execute_reply.started": "2021-08-30T19:04:22.80885Z"
    }
   },
   "outputs": [],
   "source": [
    "# Creating dummy variables for categorical features:\n",
    "pclass_dummies = pd.get_dummies(titanic['Pclass'], prefix = 'Pclass')\n",
    "title_dummies = pd.get_dummies(titanic['Title'], prefix = 'Title')\n",
    "embarked_dummies = pd.get_dummies(titanic['Embarked'], prefix = 'Embarked')\n",
    "ticket_dummies = pd.get_dummies(titanic['ticket_type'], prefix = 'Ticket')\n",
    "cabin_dummies = pd.get_dummies(titanic['Deck'], prefix = 'Deck')"
   ]
  },
  {
   "cell_type": "code",
   "execution_count": 33,
   "metadata": {
    "execution": {
     "iopub.execute_input": "2021-08-30T19:04:22.826381Z",
     "iopub.status.busy": "2021-08-30T19:04:22.825914Z",
     "iopub.status.idle": "2021-08-30T19:04:22.838483Z",
     "shell.execute_reply": "2021-08-30T19:04:22.837362Z",
     "shell.execute_reply.started": "2021-08-30T19:04:22.826168Z"
    }
   },
   "outputs": [],
   "source": [
    "# Concatenate dummy columns with main dataset:\n",
    "titanic1 = pd.concat([titanic, pclass_dummies, title_dummies, \n",
    "                      embarked_dummies, ticket_dummies, cabin_dummies], axis = 1)"
   ]
  },
  {
   "cell_type": "code",
   "execution_count": 34,
   "metadata": {
    "execution": {
     "iopub.execute_input": "2021-08-30T19:04:22.840877Z",
     "iopub.status.busy": "2021-08-30T19:04:22.840066Z",
     "iopub.status.idle": "2021-08-30T19:04:22.862315Z",
     "shell.execute_reply": "2021-08-30T19:04:22.861381Z",
     "shell.execute_reply.started": "2021-08-30T19:04:22.840473Z"
    }
   },
   "outputs": [
    {
     "name": "stdout",
     "output_type": "stream",
     "text": [
      "<class 'pandas.core.frame.DataFrame'>\n",
      "RangeIndex: 1309 entries, 0 to 1308\n",
      "Data columns (total 42 columns):\n",
      "Age               1309 non-null float64\n",
      "Cabin             295 non-null object\n",
      "Embarked          1309 non-null object\n",
      "Fare              1309 non-null float64\n",
      "Name              1309 non-null object\n",
      "Parch             1309 non-null int64\n",
      "Pclass            1309 non-null int64\n",
      "Sex               1309 non-null int64\n",
      "SibSp             1309 non-null int64\n",
      "Survived          891 non-null float64\n",
      "Ticket            1309 non-null object\n",
      "Title             1309 non-null object\n",
      "ticket_type       1309 non-null object\n",
      "family_size       1309 non-null int64\n",
      "Deck              1309 non-null object\n",
      "Pclass_1          1309 non-null uint8\n",
      "Pclass_2          1309 non-null uint8\n",
      "Pclass_3          1309 non-null uint8\n",
      "Title_Master      1309 non-null uint8\n",
      "Title_Miss        1309 non-null uint8\n",
      "Title_Mr          1309 non-null uint8\n",
      "Title_Mrs         1309 non-null uint8\n",
      "Title_Officer     1309 non-null uint8\n",
      "Title_Royalty     1309 non-null uint8\n",
      "Embarked_C        1309 non-null uint8\n",
      "Embarked_Q        1309 non-null uint8\n",
      "Embarked_S        1309 non-null uint8\n",
      "Ticket_A5         1309 non-null uint8\n",
      "Ticket_CA         1309 non-null uint8\n",
      "Ticket_NO         1309 non-null uint8\n",
      "Ticket_OTHER_T    1309 non-null uint8\n",
      "Ticket_PC         1309 non-null uint8\n",
      "Ticket_WC         1309 non-null uint8\n",
      "Deck_A            1309 non-null uint8\n",
      "Deck_B            1309 non-null uint8\n",
      "Deck_C            1309 non-null uint8\n",
      "Deck_D            1309 non-null uint8\n",
      "Deck_E            1309 non-null uint8\n",
      "Deck_F            1309 non-null uint8\n",
      "Deck_G            1309 non-null uint8\n",
      "Deck_T            1309 non-null uint8\n",
      "Deck_U            1309 non-null uint8\n",
      "dtypes: float64(3), int64(5), object(7), uint8(27)\n",
      "memory usage: 188.0+ KB\n"
     ]
    }
   ],
   "source": [
    "titanic1.info()"
   ]
  },
  {
   "cell_type": "code",
   "execution_count": 35,
   "metadata": {
    "execution": {
     "iopub.execute_input": "2021-08-30T19:04:22.86409Z",
     "iopub.status.busy": "2021-08-30T19:04:22.863567Z",
     "iopub.status.idle": "2021-08-30T19:04:22.870641Z",
     "shell.execute_reply": "2021-08-30T19:04:22.86973Z",
     "shell.execute_reply.started": "2021-08-30T19:04:22.864031Z"
    }
   },
   "outputs": [],
   "source": [
    "# Drop category fields:\n",
    "titanic1 = titanic1.drop(['Title', 'Embarked', 'Name', \n",
    "                          'Ticket', 'Cabin', 'SibSp',\n",
    "                          'Parch','ticket_type', 'Pclass', 'Deck'], axis = 1)"
   ]
  },
  {
   "cell_type": "code",
   "execution_count": 36,
   "metadata": {
    "execution": {
     "iopub.execute_input": "2021-08-30T19:04:22.872288Z",
     "iopub.status.busy": "2021-08-30T19:04:22.871788Z",
     "iopub.status.idle": "2021-08-30T19:04:22.884116Z",
     "shell.execute_reply": "2021-08-30T19:04:22.883402Z",
     "shell.execute_reply.started": "2021-08-30T19:04:22.872227Z"
    }
   },
   "outputs": [],
   "source": [
    "# Creating training and testing data:\n",
    "training = titanic1[ : titanic_train_df_idx]\n",
    "testing = titanic1[titanic_test_df_idx : ]"
   ]
  },
  {
   "cell_type": "code",
   "execution_count": 37,
   "metadata": {
    "execution": {
     "iopub.execute_input": "2021-08-30T19:04:22.885902Z",
     "iopub.status.busy": "2021-08-30T19:04:22.885403Z",
     "iopub.status.idle": "2021-08-30T19:04:22.898432Z",
     "shell.execute_reply": "2021-08-30T19:04:22.897424Z",
     "shell.execute_reply.started": "2021-08-30T19:04:22.885847Z"
    }
   },
   "outputs": [],
   "source": [
    "# Define input values, or X by dropping the Survived values:\n",
    "X = training.drop(['Survived'], axis = 1)\n",
    "\n",
    "# Define output values - this is the Survived feature:\n",
    "y = training['Survived']"
   ]
  },
  {
   "cell_type": "code",
   "execution_count": 38,
   "metadata": {
    "execution": {
     "iopub.execute_input": "2021-08-30T19:04:22.902474Z",
     "iopub.status.busy": "2021-08-30T19:04:22.899663Z",
     "iopub.status.idle": "2021-08-30T19:04:22.964311Z",
     "shell.execute_reply": "2021-08-30T19:04:22.963124Z",
     "shell.execute_reply.started": "2021-08-30T19:04:22.902414Z"
    }
   },
   "outputs": [
    {
     "data": {
      "text/html": [
       "<div>\n",
       "<style scoped>\n",
       "    .dataframe tbody tr th:only-of-type {\n",
       "        vertical-align: middle;\n",
       "    }\n",
       "\n",
       "    .dataframe tbody tr th {\n",
       "        vertical-align: top;\n",
       "    }\n",
       "\n",
       "    .dataframe thead th {\n",
       "        text-align: right;\n",
       "    }\n",
       "</style>\n",
       "<table border=\"1\" class=\"dataframe\">\n",
       "  <thead>\n",
       "    <tr style=\"text-align: right;\">\n",
       "      <th></th>\n",
       "      <th>Age</th>\n",
       "      <th>Fare</th>\n",
       "      <th>Sex</th>\n",
       "      <th>family_size</th>\n",
       "      <th>Pclass_1</th>\n",
       "      <th>Pclass_2</th>\n",
       "      <th>Pclass_3</th>\n",
       "      <th>Title_Master</th>\n",
       "      <th>Title_Miss</th>\n",
       "      <th>Title_Mr</th>\n",
       "      <th>Title_Mrs</th>\n",
       "      <th>Title_Officer</th>\n",
       "      <th>Title_Royalty</th>\n",
       "      <th>Embarked_C</th>\n",
       "      <th>Embarked_Q</th>\n",
       "      <th>Embarked_S</th>\n",
       "      <th>Ticket_A5</th>\n",
       "      <th>Ticket_CA</th>\n",
       "      <th>Ticket_NO</th>\n",
       "      <th>Ticket_OTHER_T</th>\n",
       "      <th>Ticket_PC</th>\n",
       "      <th>Ticket_WC</th>\n",
       "      <th>Deck_A</th>\n",
       "      <th>Deck_B</th>\n",
       "      <th>Deck_C</th>\n",
       "      <th>Deck_D</th>\n",
       "      <th>Deck_E</th>\n",
       "      <th>Deck_F</th>\n",
       "      <th>Deck_G</th>\n",
       "      <th>Deck_T</th>\n",
       "      <th>Deck_U</th>\n",
       "    </tr>\n",
       "  </thead>\n",
       "  <tbody>\n",
       "    <tr>\n",
       "      <th>0</th>\n",
       "      <td>22.0</td>\n",
       "      <td>7.2500</td>\n",
       "      <td>0</td>\n",
       "      <td>2</td>\n",
       "      <td>0</td>\n",
       "      <td>0</td>\n",
       "      <td>1</td>\n",
       "      <td>0</td>\n",
       "      <td>0</td>\n",
       "      <td>1</td>\n",
       "      <td>0</td>\n",
       "      <td>0</td>\n",
       "      <td>0</td>\n",
       "      <td>0</td>\n",
       "      <td>0</td>\n",
       "      <td>1</td>\n",
       "      <td>1</td>\n",
       "      <td>0</td>\n",
       "      <td>0</td>\n",
       "      <td>0</td>\n",
       "      <td>0</td>\n",
       "      <td>0</td>\n",
       "      <td>0</td>\n",
       "      <td>0</td>\n",
       "      <td>0</td>\n",
       "      <td>0</td>\n",
       "      <td>0</td>\n",
       "      <td>0</td>\n",
       "      <td>0</td>\n",
       "      <td>0</td>\n",
       "      <td>1</td>\n",
       "    </tr>\n",
       "    <tr>\n",
       "      <th>1</th>\n",
       "      <td>38.0</td>\n",
       "      <td>71.2833</td>\n",
       "      <td>1</td>\n",
       "      <td>2</td>\n",
       "      <td>1</td>\n",
       "      <td>0</td>\n",
       "      <td>0</td>\n",
       "      <td>0</td>\n",
       "      <td>0</td>\n",
       "      <td>0</td>\n",
       "      <td>1</td>\n",
       "      <td>0</td>\n",
       "      <td>0</td>\n",
       "      <td>1</td>\n",
       "      <td>0</td>\n",
       "      <td>0</td>\n",
       "      <td>0</td>\n",
       "      <td>0</td>\n",
       "      <td>0</td>\n",
       "      <td>0</td>\n",
       "      <td>1</td>\n",
       "      <td>0</td>\n",
       "      <td>0</td>\n",
       "      <td>0</td>\n",
       "      <td>1</td>\n",
       "      <td>0</td>\n",
       "      <td>0</td>\n",
       "      <td>0</td>\n",
       "      <td>0</td>\n",
       "      <td>0</td>\n",
       "      <td>0</td>\n",
       "    </tr>\n",
       "    <tr>\n",
       "      <th>2</th>\n",
       "      <td>26.0</td>\n",
       "      <td>7.9250</td>\n",
       "      <td>1</td>\n",
       "      <td>1</td>\n",
       "      <td>0</td>\n",
       "      <td>0</td>\n",
       "      <td>1</td>\n",
       "      <td>0</td>\n",
       "      <td>1</td>\n",
       "      <td>0</td>\n",
       "      <td>0</td>\n",
       "      <td>0</td>\n",
       "      <td>0</td>\n",
       "      <td>0</td>\n",
       "      <td>0</td>\n",
       "      <td>1</td>\n",
       "      <td>0</td>\n",
       "      <td>0</td>\n",
       "      <td>0</td>\n",
       "      <td>1</td>\n",
       "      <td>0</td>\n",
       "      <td>0</td>\n",
       "      <td>0</td>\n",
       "      <td>0</td>\n",
       "      <td>0</td>\n",
       "      <td>0</td>\n",
       "      <td>0</td>\n",
       "      <td>0</td>\n",
       "      <td>0</td>\n",
       "      <td>0</td>\n",
       "      <td>1</td>\n",
       "    </tr>\n",
       "    <tr>\n",
       "      <th>3</th>\n",
       "      <td>35.0</td>\n",
       "      <td>53.1000</td>\n",
       "      <td>1</td>\n",
       "      <td>2</td>\n",
       "      <td>1</td>\n",
       "      <td>0</td>\n",
       "      <td>0</td>\n",
       "      <td>0</td>\n",
       "      <td>0</td>\n",
       "      <td>0</td>\n",
       "      <td>1</td>\n",
       "      <td>0</td>\n",
       "      <td>0</td>\n",
       "      <td>0</td>\n",
       "      <td>0</td>\n",
       "      <td>1</td>\n",
       "      <td>0</td>\n",
       "      <td>0</td>\n",
       "      <td>1</td>\n",
       "      <td>0</td>\n",
       "      <td>0</td>\n",
       "      <td>0</td>\n",
       "      <td>0</td>\n",
       "      <td>0</td>\n",
       "      <td>1</td>\n",
       "      <td>0</td>\n",
       "      <td>0</td>\n",
       "      <td>0</td>\n",
       "      <td>0</td>\n",
       "      <td>0</td>\n",
       "      <td>0</td>\n",
       "    </tr>\n",
       "    <tr>\n",
       "      <th>4</th>\n",
       "      <td>35.0</td>\n",
       "      <td>8.0500</td>\n",
       "      <td>0</td>\n",
       "      <td>1</td>\n",
       "      <td>0</td>\n",
       "      <td>0</td>\n",
       "      <td>1</td>\n",
       "      <td>0</td>\n",
       "      <td>0</td>\n",
       "      <td>1</td>\n",
       "      <td>0</td>\n",
       "      <td>0</td>\n",
       "      <td>0</td>\n",
       "      <td>0</td>\n",
       "      <td>0</td>\n",
       "      <td>1</td>\n",
       "      <td>0</td>\n",
       "      <td>0</td>\n",
       "      <td>1</td>\n",
       "      <td>0</td>\n",
       "      <td>0</td>\n",
       "      <td>0</td>\n",
       "      <td>0</td>\n",
       "      <td>0</td>\n",
       "      <td>0</td>\n",
       "      <td>0</td>\n",
       "      <td>0</td>\n",
       "      <td>0</td>\n",
       "      <td>0</td>\n",
       "      <td>0</td>\n",
       "      <td>1</td>\n",
       "    </tr>\n",
       "  </tbody>\n",
       "</table>\n",
       "</div>"
      ],
      "text/plain": [
       "    Age     Fare  Sex  family_size   ...    Deck_F  Deck_G  Deck_T  Deck_U\n",
       "0  22.0   7.2500    0            2   ...         0       0       0       1\n",
       "1  38.0  71.2833    1            2   ...         0       0       0       0\n",
       "2  26.0   7.9250    1            1   ...         0       0       0       1\n",
       "3  35.0  53.1000    1            2   ...         0       0       0       0\n",
       "4  35.0   8.0500    0            1   ...         0       0       0       1\n",
       "\n",
       "[5 rows x 31 columns]"
      ]
     },
     "execution_count": 38,
     "metadata": {},
     "output_type": "execute_result"
    }
   ],
   "source": [
    "X.head()"
   ]
  },
  {
   "cell_type": "code",
   "execution_count": 39,
   "metadata": {
    "execution": {
     "iopub.execute_input": "2021-08-30T19:04:22.966233Z",
     "iopub.status.busy": "2021-08-30T19:04:22.965875Z",
     "iopub.status.idle": "2021-08-30T19:04:23.272641Z",
     "shell.execute_reply": "2021-08-30T19:04:23.271588Z",
     "shell.execute_reply.started": "2021-08-30T19:04:22.966154Z"
    }
   },
   "outputs": [],
   "source": [
    "# For splitting data we will be using train_test_split from sklearn:\n",
    "from sklearn.model_selection import train_test_split"
   ]
  },
  {
   "cell_type": "code",
   "execution_count": 40,
   "metadata": {
    "execution": {
     "iopub.execute_input": "2021-08-30T19:04:23.27524Z",
     "iopub.status.busy": "2021-08-30T19:04:23.274976Z",
     "iopub.status.idle": "2021-08-30T19:04:23.28611Z",
     "shell.execute_reply": "2021-08-30T19:04:23.285176Z",
     "shell.execute_reply.started": "2021-08-30T19:04:23.275192Z"
    }
   },
   "outputs": [],
   "source": [
    "# Splitting the data into test and train, we are testing on 0.25 = 25% of dataset:\n",
    "X_train, X_test, y_train, y_test = train_test_split(X, y, test_size = 0.25, random_state=13)"
   ]
  },
  {
   "cell_type": "code",
   "execution_count": 41,
   "metadata": {
    "execution": {
     "iopub.execute_input": "2021-08-30T19:04:23.288539Z",
     "iopub.status.busy": "2021-08-30T19:04:23.288297Z",
     "iopub.status.idle": "2021-08-30T19:04:23.440417Z",
     "shell.execute_reply": "2021-08-30T19:04:23.439608Z",
     "shell.execute_reply.started": "2021-08-30T19:04:23.288502Z"
    }
   },
   "outputs": [],
   "source": [
    "# Imports for training data:\n",
    "from sklearn.ensemble import RandomForestClassifier\n",
    "from sklearn.model_selection import GridSearchCV\n",
    "\n",
    "random_forrest = RandomForestClassifier()"
   ]
  },
  {
   "cell_type": "code",
   "execution_count": 42,
   "metadata": {
    "execution": {
     "iopub.execute_input": "2021-08-30T19:04:23.441835Z",
     "iopub.status.busy": "2021-08-30T19:04:23.44163Z",
     "iopub.status.idle": "2021-08-30T19:04:23.447717Z",
     "shell.execute_reply": "2021-08-30T19:04:23.446327Z",
     "shell.execute_reply.started": "2021-08-30T19:04:23.441802Z"
    }
   },
   "outputs": [],
   "source": [
    "# Training the model:\n",
    "forrest_params = dict(max_depth = [n for n in range(6,16)],\n",
    "                      min_samples_split = [n for n in range(5,11)],\n",
    "                      min_samples_leaf = [n for n in range(2,5)],\n",
    "                      n_estimators = [n for n in range(10,60,10)],)\n",
    "\n",
    "grid_forrest =  GridSearchCV(estimator = random_forrest, param_grid = forrest_params, cv = 4)"
   ]
  },
  {
   "cell_type": "code",
   "execution_count": 43,
   "metadata": {
    "execution": {
     "iopub.execute_input": "2021-08-30T19:04:23.449247Z",
     "iopub.status.busy": "2021-08-30T19:04:23.449016Z"
    }
   },
   "outputs": [
    {
     "data": {
      "text/plain": [
       "GridSearchCV(cv=4, error_score='raise-deprecating',\n",
       "       estimator=RandomForestClassifier(bootstrap=True, class_weight=None, criterion='gini',\n",
       "            max_depth=None, max_features='auto', max_leaf_nodes=None,\n",
       "            min_impurity_decrease=0.0, min_impurity_split=None,\n",
       "            min_samples_leaf=1, min_samples_split=2,\n",
       "            min_weight_fraction_leaf=0.0, n_estimators='warn', n_jobs=None,\n",
       "            oob_score=False, random_state=None, verbose=0,\n",
       "            warm_start=False),\n",
       "       fit_params=None, iid='warn', n_jobs=None,\n",
       "       param_grid={'max_depth': [6, 7, 8, 9, 10, 11, 12, 13, 14, 15], 'min_samples_split': [5, 6, 7, 8, 9, 10], 'min_samples_leaf': [2, 3, 4], 'n_estimators': [10, 20, 30, 40, 50]},\n",
       "       pre_dispatch='2*n_jobs', refit=True, return_train_score='warn',\n",
       "       scoring=None, verbose=0)"
      ]
     },
     "execution_count": 43,
     "metadata": {},
     "output_type": "execute_result"
    }
   ],
   "source": [
    "grid_forrest.fit(X,y)"
   ]
  },
  {
   "cell_type": "code",
   "execution_count": 44,
   "metadata": {},
   "outputs": [
    {
     "data": {
      "text/plain": [
       "{'max_depth': 14,\n",
       " 'min_samples_leaf': 2,\n",
       " 'min_samples_split': 10,\n",
       " 'n_estimators': 30}"
      ]
     },
     "execution_count": 44,
     "metadata": {},
     "output_type": "execute_result"
    }
   ],
   "source": [
    "grid_forrest.best_params_"
   ]
  },
  {
   "cell_type": "code",
   "execution_count": 45,
   "metadata": {},
   "outputs": [],
   "source": [
    "forrest_params = grid_forrest.best_params_"
   ]
  },
  {
   "cell_type": "code",
   "execution_count": 46,
   "metadata": {},
   "outputs": [],
   "source": [
    "y_predict = grid_forrest.predict(X)"
   ]
  },
  {
   "cell_type": "code",
   "execution_count": 47,
   "metadata": {},
   "outputs": [],
   "source": [
    "##y_predict = xgb.predict(X)"
   ]
  },
  {
   "cell_type": "code",
   "execution_count": 48,
   "metadata": {},
   "outputs": [
    {
     "data": {
      "text/plain": [
       "891"
      ]
     },
     "execution_count": 48,
     "metadata": {},
     "output_type": "execute_result"
    }
   ],
   "source": [
    "len(y_predict)"
   ]
  },
  {
   "cell_type": "code",
   "execution_count": 49,
   "metadata": {},
   "outputs": [
    {
     "data": {
      "text/plain": [
       "891"
      ]
     },
     "execution_count": 49,
     "metadata": {},
     "output_type": "execute_result"
    }
   ],
   "source": [
    "len(y)"
   ]
  },
  {
   "cell_type": "code",
   "execution_count": 50,
   "metadata": {},
   "outputs": [
    {
     "data": {
      "text/plain": [
       "array([[523,  26],\n",
       "       [ 78, 264]])"
      ]
     },
     "execution_count": 50,
     "metadata": {},
     "output_type": "execute_result"
    }
   ],
   "source": [
    "from sklearn.metrics import confusion_matrix, classification_report\n",
    "cm = confusion_matrix(y,y_predict)\n",
    "cm"
   ]
  },
  {
   "cell_type": "code",
   "execution_count": 51,
   "metadata": {},
   "outputs": [
    {
     "data": {
      "text/plain": [
       "<matplotlib.axes._subplots.AxesSubplot at 0x7f00745502b0>"
      ]
     },
     "execution_count": 51,
     "metadata": {},
     "output_type": "execute_result"
    },
    {
     "data": {
      "image/png": "[encoded data removed]",
      "text/plain": [
       "<Figure size 432x288 with 2 Axes>"
      ]
     },
     "metadata": {},
     "output_type": "display_data"
    }
   ],
   "source": [
    "# Quick overview of our confusion matrix:\n",
    "sns.heatmap(cm, annot = True, square = True, fmt='g')"
   ]
  },
  {
   "cell_type": "code",
   "execution_count": 52,
   "metadata": {},
   "outputs": [
    {
     "name": "stdout",
     "output_type": "stream",
     "text": [
      "              precision    recall  f1-score   support\n",
      "\n",
      "         0.0       0.87      0.95      0.91       549\n",
      "         1.0       0.91      0.77      0.84       342\n",
      "\n",
      "   micro avg       0.88      0.88      0.88       891\n",
      "   macro avg       0.89      0.86      0.87       891\n",
      "weighted avg       0.89      0.88      0.88       891\n",
      "\n"
     ]
    }
   ],
   "source": [
    "print(classification_report(y,y_predict))"
   ]
  },
  {
   "cell_type": "code",
   "execution_count": 53,
   "metadata": {},
   "outputs": [],
   "source": [
    "testing = testing.drop(['Survived'], axis = 1)"
   ]
  },
  {
   "cell_type": "code",
   "execution_count": 54,
   "metadata": {},
   "outputs": [],
   "source": [
    "prediction = grid_forrest.predict(testing)"
   ]
  },
  {
   "cell_type": "code",
   "execution_count": 55,
   "metadata": {},
   "outputs": [],
   "source": [
    "##prediction = xgb.predict(testing)"
   ]
  },
  {
   "cell_type": "code",
   "execution_count": 56,
   "metadata": {},
   "outputs": [],
   "source": [
    "# Combine ImageID and Label into one DataFrame:\n",
    "final_result = pd.DataFrame({'Survived': prediction, 'PassengerId': passengerId})\n",
    "final_result['Survived'] = final_result['Survived'].astype(int) # convert everything to int values\n",
    "final_result = final_result[['PassengerId', 'Survived']]"
   ]
  },
  {
   "cell_type": "code",
   "execution_count": 57,
   "metadata": {},
   "outputs": [],
   "source": [
    "# Downloading final_result dataset as digit_output.csv:\n",
    "final_result.to_csv('titanic_output.csv', index = False)"
   ]
  }
 ],
 "metadata": {
  "kernelspec": {
   "display_name": "Python 3",
   "language": "python",
   "name": "python3"
  },
  "language_info": {
   "codemirror_mode": {
    "name": "ipython",
    "version": 3
   },
   "file_extension": ".py",
   "mimetype": "text/x-python",
   "name": "python",
   "nbconvert_exporter": "python",
   "pygments_lexer": "ipython3",
   "version": "3.6.4"
  }
 },
 "nbformat": 4,
 "nbformat_minor": 4
}
